{
  "metadata": {
    "language_info": {
      "codemirror_mode": {
        "name": "python",
        "version": 3
      },
      "file_extension": ".py",
      "mimetype": "text/x-python",
      "name": "python",
      "nbconvert_exporter": "python",
      "pygments_lexer": "ipython3",
      "version": "3.8"
    },
    "kernelspec": {
      "name": "python",
      "display_name": "Python (Pyodide)",
      "language": "python"
    }
  },
  "nbformat_minor": 4,
  "nbformat": 4,
  "cells": [
    {
      "cell_type": "markdown",
      "source": "01 - Crie uma lista com quatro nomes,quatro endereços e quatro telefones. msotre a lista de forma formatada",
      "metadata": {}
    },
    {
      "cell_type": "code",
      "source": "nome = [\n    \"Miguel\",\n    \"Marcos\",\n    \"Carlos\",\n    \"Bruno\"\n    ]\nidade = [\n    17,22,31,77\n    ]\nphone = [\n    \"9778-897\",\n    \"9465-897\",\n    \"9878-246\",\n    \"9433-566\"\n    ]\nx=0\n\nprint(\"{:<9}{:<7}{:<0}\".format(\"Nome\",\"Idade\",\"Phone\"))\nprint(\" \"*22)\n\nwhile x<=3:\n    print(\"{:<10}{:<4}{:<0}\".format(nome[x], idade[x], phone[x]))\n    x+=1",
      "metadata": {
        "trusted": true
      },
      "execution_count": 20,
      "outputs": [
        {
          "name": "stdout",
          "text": "Nome     Idade  Phone\n                      \nMiguel    17  9778-897\nMarcos    22  9465-897\nCarlos    31  9878-246\nBruno     77  9433-566\n",
          "output_type": "stream"
        }
      ]
    },
    {
      "cell_type": "markdown",
      "source": "02 - Crie um programa que mostra 3 endereços, 3 bairros, 3 cidades e 3 numeros",
      "metadata": {}
    },
    {
      "cell_type": "code",
      "source": "ende = [\n    \"Rua Martins\",\n    \"Rua Gonsalves\",\n    \"Rua Fatima\"\n]\nbair = [\n    \"Convivio reconqusita\",\n    \"Buru\",\n    \"São judas\"\n]\ncid = [\n    \"Salto\",\"Sorocaba\",\"Cabriuva\"\n]\nnum = [\n    22,17,180\n]\n\nx=0\n\nprint(\"|{:<10}|{:<22}|{:<15}|{:<0}|\".format(\"Cidade\",\"Bairro\",\"Endereço\",\"Numero\"))\nprint(\"|          |                      |               |      |\")\nwhile x<=2:\n    print(\"|{:<10}|{:<22}|{:<15}|{:<6}|\".format(cid[x], bair[x], ende[x], num[x]))\n    x+=1",
      "metadata": {
        "trusted": true
      },
      "execution_count": 88,
      "outputs": [
        {
          "name": "stdout",
          "text": "|Cidade    |Bairro                |Endereço       |Numero|\n|          |                      |               |      |\n|Salto     |Convivio reconqusita  |Rua Martins    |22    |\n|Sorocaba  |Buru                  |Rua Gonsalves  |17    |\n|Cabriuva  |São judas             |Rua Fatima     |180   |\n",
          "output_type": "stream"
        }
      ]
    },
    {
      "cell_type": "code",
      "source": "",
      "metadata": {},
      "execution_count": null,
      "outputs": []
    },
    {
      "cell_type": "code",
      "source": "",
      "metadata": {},
      "execution_count": null,
      "outputs": []
    }
  ]
}