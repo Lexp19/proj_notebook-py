{
  "metadata": {
    "language_info": {
      "codemirror_mode": {
        "name": "python",
        "version": 3
      },
      "file_extension": ".py",
      "mimetype": "text/x-python",
      "name": "python",
      "nbconvert_exporter": "python",
      "pygments_lexer": "ipython3",
      "version": "3.8"
    },
    "kernelspec": {
      "name": "python",
      "display_name": "Python (Pyodide)",
      "language": "python"
    }
  },
  "nbformat_minor": 4,
  "nbformat": 4,
  "cells": [
    {
      "cell_type": "markdown",
      "source": "01-Crie um programa que vai de zero e conte ate cinco",
      "metadata": {}
    },
    {
      "cell_type": "code",
      "source": "for c in range(0,6):\n    print(c)",
      "metadata": {
        "trusted": true
      },
      "execution_count": 2,
      "outputs": [
        {
          "name": "stdout",
          "text": "0\n1\n2\n3\n4\n5\n",
          "output_type": "stream"
        }
      ]
    },
    {
      "cell_type": "markdown",
      "source": "02-Crie um programa que guarde cinco nomes e mostre o numero armazenado",
      "metadata": {}
    },
    {
      "cell_type": "code",
      "source": "nome = [\"Miguel\",\"Gabriel\",\"Bryan\",\"Bruno\",\"Carlos\"]\ncont = len(nome)\nidade = [22,34,35,12,46]\n\nfor c in range(0, cont):\n    print(c, \" - \", nome[c], idade[c], \"anos\")\n    ",
      "metadata": {
        "trusted": true
      },
      "execution_count": 44,
      "outputs": [
        {
          "name": "stdout",
          "text": "0  -  Miguel 22 anos\n1  -  Gabriel 34 anos\n2  -  Bryan 35 anos\n3  -  Bruno 12 anos\n4  -  Carlos 46 anos\n",
          "output_type": "stream"
        }
      ]
    },
    {
      "cell_type": "code",
      "source": "",
      "metadata": {},
      "execution_count": null,
      "outputs": []
    }
  ]
}