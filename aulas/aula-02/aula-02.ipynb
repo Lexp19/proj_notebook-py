{
  "metadata": {
    "kernelspec": {
      "name": "python",
      "display_name": "Python (Pyodide)",
      "language": "python"
    },
    "language_info": {
      "codemirror_mode": {
        "name": "python",
        "version": 3
      },
      "file_extension": ".py",
      "mimetype": "text/x-python",
      "name": "python",
      "nbconvert_exporter": "python",
      "pygments_lexer": "ipython3",
      "version": "3.8"
    }
  },
  "nbformat_minor": 5,
  "nbformat": 4,
  "cells": [
    {
      "cell_type": "markdown",
      "source": "01-Crie um programa que some dois valores e se for maior que cinco retorne \"maior\" caso contrario \"menor\"",
      "metadata": {},
      "id": "35debd0c-8f83-4f56-bc68-ff0a8be9e186"
    },
    {
      "cell_type": "code",
      "source": "x=2\ny=3\nres=y+x\n\nif res>5:\n    print(\"maior\")\nelse:\n    print(\"menor\")",
      "metadata": {
        "trusted": true
      },
      "execution_count": 6,
      "outputs": [
        {
          "name": "stdout",
          "text": "menor\n",
          "output_type": "stream"
        }
      ],
      "id": "9a6476d6-bd66-4340-971b-b34d15146a5a"
    },
    {
      "cell_type": "markdown",
      "source": "02-Crie um programa que some dois valores que for maior que cinco retorne \"maior\", caso igual retorne \"igual\", caso menor \"menor\"",
      "metadata": {},
      "id": "c59446b2-bf32-496f-becf-f573a2f4aaab"
    },
    {
      "cell_type": "code",
      "source": "x=2\ny=3\nres=y+x\n\nif res>5:\n    print(\"maior\")\nelif res==5:\n    print(\"igual\")\nelse:\n    print(\"menor\")",
      "metadata": {
        "trusted": true
      },
      "execution_count": 9,
      "outputs": [
        {
          "name": "stdout",
          "text": "maior\n",
          "output_type": "stream"
        }
      ],
      "id": "dd789af5-3287-459f-b8fc-1bb32e87b44f"
    },
    {
      "cell_type": "code",
      "source": "",
      "metadata": {},
      "execution_count": null,
      "outputs": [],
      "id": "3a35bf5b-f7d9-4f1b-bf80-1b4caeaa3016"
    }
  ]
}