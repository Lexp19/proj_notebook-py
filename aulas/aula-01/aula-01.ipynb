{
  "metadata": {
    "kernelspec": {
      "name": "python",
      "display_name": "Python (Pyodide)",
      "language": "python"
    },
    "language_info": {
      "codemirror_mode": {
        "name": "python",
        "version": 3
      },
      "file_extension": ".py",
      "mimetype": "text/x-python",
      "name": "python",
      "nbconvert_exporter": "python",
      "pygments_lexer": "ipython3",
      "version": "3.8"
    }
  },
  "nbformat_minor": 5,
  "nbformat": 4,
  "cells": [
    {
      "cell_type": "markdown",
      "source": "01-Crie um prograa que receba dois valores e retorne uma soma",
      "metadata": {},
      "id": "04f96174-bccc-4bfd-9937-597890082d99"
    },
    {
      "cell_type": "code",
      "source": "x=2\ny=2\nres=x+y\nprint(res)",
      "metadata": {
        "trusted": true
      },
      "execution_count": 2,
      "outputs": [
        {
          "name": "stdout",
          "text": "4\n",
          "output_type": "stream"
        }
      ],
      "id": "2a0ec0c3-9abf-4fbe-8536-45970815513a"
    },
    {
      "cell_type": "markdown",
      "source": "02-Crie um prograa que receba dois valores e retorne uma multiplicação",
      "metadata": {},
      "id": "9347c063-8461-4590-ae95-838236275bbb"
    },
    {
      "cell_type": "code",
      "source": "x=2\ny=3\nres=x*y\nprint(res)",
      "metadata": {
        "trusted": true
      },
      "execution_count": 3,
      "outputs": [
        {
          "name": "stdout",
          "text": "6\n",
          "output_type": "stream"
        }
      ],
      "id": "3d1dd0d5-0120-4457-9cec-d06b24c7b1a0"
    },
    {
      "cell_type": "code",
      "source": "",
      "metadata": {},
      "execution_count": null,
      "outputs": [],
      "id": "ab50f8ce-d676-4e70-bd19-d6ff48c031c8"
    }
  ]
}