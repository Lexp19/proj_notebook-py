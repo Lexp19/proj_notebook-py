{
  "metadata": {
    "language_info": {
      "codemirror_mode": {
        "name": "python",
        "version": 3
      },
      "file_extension": ".py",
      "mimetype": "text/x-python",
      "name": "python",
      "nbconvert_exporter": "python",
      "pygments_lexer": "ipython3",
      "version": "3.8"
    },
    "kernelspec": {
      "name": "python",
      "display_name": "Python (Pyodide)",
      "language": "python"
    }
  },
  "nbformat_minor": 4,
  "nbformat": 4,
  "cells": [
    {
      "cell_type": "markdown",
      "source": "01 - Crie um programa que crie um objeto e um construtor com nome pessoa. Adicionando em uma lista com quatro pessoas",
      "metadata": {}
    },
    {
      "cell_type": "code",
      "source": "class pessoa:\n    def __init__(self, nome, idade, cargo, salario):\n        self.nome = nome\n        self.idade = idade\n        self.cargo = cargo\n        self.salario = salario\n\ncadastro = []\n\ncadastro.append(pessoa(\"Miguel\", 70, \"Diretor\", \"R$12.000\"))\ncadastro.append(pessoa(\"Carlos\", 85, \"Assistente\", \"R$1.500\"))\ncadastro.append(pessoa(\"Bruno\", 57, \"Auxiliar\", \"R$1.200\"))\ncadastro.append(pessoa(\"Gabriel\", 22, \"Estagiario\", \"R$800\"))\ncadastro.append(pessoa(\"Eraldo\", 98, \"Aux.Administrativo\", \"R$1.600\"))\n\ncadastro.sort(key=lambda x: x.nome)\n\nfor v in cadastro:\n    print(\"{:<10}{:<4}{:<21}{:<0}\".format(v.nome, v.idade, v.cargo,v.salario))",
      "metadata": {
        "trusted": true
      },
      "execution_count": 8,
      "outputs": [
        {
          "name": "stdout",
          "text": "Bruno     57  Auxiliar             R$1.200\nCarlos    85  Assistente           R$1.500\nEraldo    98  Aux.Administrativo   R$1.600\nGabriel   22  Estagiario           R$800\nMiguel    70  Diretor              R$12.000\n",
          "output_type": "stream"
        }
      ]
    },
    {
      "cell_type": "markdown",
      "source": "02 - Crie um programa com uma classe carro onde possua, modelo, marca, ano, placa. Adicione tres carros",
      "metadata": {}
    },
    {
      "cell_type": "code",
      "source": "class carro:\n    def __init__(self, modelo, marca, ano, placa):\n        self.modelo = modelo\n        self.marca = marca\n        self.ano = ano\n        self.placa = placa\n\ncadastro = []\n\ncadastro.append(carro(\"Corala\", \"TOIOTA\", 2012,\"1h9s2k7\"))\ncadastro.append(carro(\"Hb20\", \"HYUNDAI\", 2017,\"h6f9b59\"))\ncadastro.append(carro(\"Fiat argo\", \"FIAT\", 2022,\"7fh3g01\"))\n\ncadastro.sort(key=lambda x: x.modelo)\n\nfor c in cadastro:\n    print(\"{:<15}{:<4}{:<8}{:<0}\".format(c.modelo, c.marca, c.ano, c.placa))\n    ",
      "metadata": {
        "trusted": true
      },
      "execution_count": 13,
      "outputs": [
        {
          "name": "stdout",
          "text": "Corala         TOIOTA2012    1h9s2k7\nFiat argo      FIAT2022    7fh3g01\nHb20           HYUNDAI2017    h6f9b59\n",
          "output_type": "stream"
        }
      ]
    },
    {
      "cell_type": "markdown",
      "source": "",
      "metadata": {}
    }
  ]
}